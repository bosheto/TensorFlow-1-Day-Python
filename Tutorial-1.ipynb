{
 "cells": [
  {
   "cell_type": "code",
   "execution_count": 14,
   "metadata": {},
   "outputs": [
    {
     "name": "stdout",
     "output_type": "stream",
     "text": [
      "Epoch 1/3\n",
      "1875/1875 [==============================] - 1s 611us/step - loss: 0.2607 - accuracy: 0.9243\n",
      "Epoch 2/3\n",
      "1875/1875 [==============================] - 1s 612us/step - loss: 0.1038 - accuracy: 0.9687\n",
      "Epoch 3/3\n",
      "1875/1875 [==============================] - 1s 621us/step - loss: 0.0716 - accuracy: 0.9772\n"
     ]
    },
    {
     "data": {
      "text/plain": [
       "<keras.src.callbacks.History at 0x15e999d10>"
      ]
     },
     "execution_count": 14,
     "metadata": {},
     "output_type": "execute_result"
    }
   ],
   "source": [
    "\n",
    "import tensorflow \n",
    "\n",
    "mnist = tensorflow.keras.datasets.mnist # 28x28 images of hand-written digits 0-9\n",
    "\n",
    "(x_train, y_train), (x_test, y_test) = mnist.load_data()\n",
    "\n",
    "# Normalize x_tain and x_test \n",
    "x_train = tensorflow.keras.utils.normalize(x_train, axis=1)\n",
    "x_test = tensorflow.keras.utils.normalize(x_test, axis=1)\n",
    "\n",
    "# Create model object type is Sequential\n",
    "model = tensorflow.keras.models.Sequential()\n",
    "\n",
    "#Add layer to the model\n",
    "model.add(tensorflow.keras.layers.Flatten()) # input layer, flatten makes 2d array into 1d array\n",
    "model.add(tensorflow.keras.layers.Dense(128, activation=tensorflow.nn.relu)) # 1st hidden layer, 128 nodes, activation function RELU  \n",
    "model.add(tensorflow.keras.layers.Dense(128, activation=tensorflow.nn.relu)) # 2nd hidden layer, same as above\n",
    "model.add(tensorflow.keras.layers.Dense(10, activation=tensorflow.nn.softmax)) # output layer \n",
    "\n",
    "model.compile(\n",
    "    optimizer='adam',\n",
    "    loss='sparse_categorical_crossentropy',\n",
    "    metrics = ['accuracy']\n",
    "    )\n",
    "\n",
    "model.fit(x_train, y_train, epochs=3)\n"
   ]
  },
  {
   "cell_type": "code",
   "execution_count": 15,
   "metadata": {},
   "outputs": [
    {
     "name": "stdout",
     "output_type": "stream",
     "text": [
      "313/313 [==============================] - 0s 394us/step - loss: 0.0899 - accuracy: 0.9710\n",
      "0.08986189216375351 0.9710000157356262\n"
     ]
    }
   ],
   "source": [
    "val_loss, val_acc = model.evaluate(x_test, y_test)\n",
    "print(val_loss, val_acc)"
   ]
  },
  {
   "cell_type": "code",
   "execution_count": 9,
   "metadata": {},
   "outputs": [
    {
     "data": {
      "image/png": "[encoded data removed]",
      "text/plain": [
       "<Figure size 640x480 with 1 Axes>"
      ]
     },
     "metadata": {},
     "output_type": "display_data"
    }
   ],
   "source": [
    "import matplotlib.pyplot as pyplot\n",
    "\n",
    "pyplot.imshow(x_train[0], cmap = pyplot.cm.binary)\n",
    "\n",
    "pyplot.show()\n"
   ]
  },
  {
   "cell_type": "code",
   "execution_count": 16,
   "metadata": {},
   "outputs": [
    {
     "name": "stdout",
     "output_type": "stream",
     "text": [
      "INFO:tensorflow:Assets written to: mnist_data_model.model/assets\n"
     ]
    },
    {
     "name": "stderr",
     "output_type": "stream",
     "text": [
      "INFO:tensorflow:Assets written to: mnist_data_model.model/assets\n"
     ]
    }
   ],
   "source": [
    "model.save('models/mnist_data_model.model')"
   ]
  },
  {
   "cell_type": "code",
   "execution_count": 17,
   "metadata": {},
   "outputs": [],
   "source": [
    "new_model = tensorflow.keras.models.load_model('models/mnist_data_model.model')"
   ]
  },
  {
   "cell_type": "code",
   "execution_count": 19,
   "metadata": {},
   "outputs": [
    {
     "name": "stdout",
     "output_type": "stream",
     "text": [
      "313/313 [==============================] - 0s 354us/step\n"
     ]
    }
   ],
   "source": [
    "predictions = new_model.predict([x_test])"
   ]
  },
  {
   "cell_type": "code",
   "execution_count": 20,
   "metadata": {},
   "outputs": [
    {
     "name": "stdout",
     "output_type": "stream",
     "text": [
      "[[1.92071845e-10 3.57214596e-08 1.47049723e-05 ... 9.99981046e-01\n",
      "  3.12117554e-09 3.52954828e-07]\n",
      " [2.38771247e-09 9.71106238e-06 9.99969482e-01 ... 1.53915503e-09\n",
      "  1.43504506e-08 4.47637327e-12]\n",
      " [5.72185741e-07 9.99484181e-01 4.37543667e-06 ... 9.86049563e-05\n",
      "  1.04819075e-04 2.22012804e-05]\n",
      " ...\n",
      " [9.13602420e-08 1.51910626e-05 1.29994802e-07 ... 5.19884015e-05\n",
      "  1.89684852e-05 2.34341482e-03]\n",
      " [9.06478272e-06 4.36346409e-06 1.60638353e-06 ... 1.79389349e-06\n",
      "  3.79912220e-02 8.87931549e-07]\n",
      " [8.23542052e-07 1.97868957e-08 5.26666736e-06 ... 2.54467170e-10\n",
      "  1.16773592e-07 1.98048689e-08]]\n"
     ]
    }
   ],
   "source": [
    "print(predictions)"
   ]
  },
  {
   "cell_type": "code",
   "execution_count": 26,
   "metadata": {},
   "outputs": [
    {
     "name": "stdout",
     "output_type": "stream",
     "text": [
      "2\n"
     ]
    }
   ],
   "source": [
    "import numpy as np\n",
    "\n",
    "print(np.argmax(predictions[1]))"
   ]
  },
  {
   "cell_type": "code",
   "execution_count": 27,
   "metadata": {},
   "outputs": [
    {
     "data": {
      "image/png": "[encoded data removed]",
      "text/plain": [
       "<Figure size 640x480 with 1 Axes>"
      ]
     },
     "metadata": {},
     "output_type": "display_data"
    }
   ],
   "source": [
    "pyplot.imshow(x_test[1], cmap=pyplot.cm.binary)\n",
    "pyplot.show()"
   ]
  }
 ],
 "metadata": {
  "kernelspec": {
   "display_name": "env",
   "language": "python",
   "name": "python3"
  },
  "language_info": {
   "codemirror_mode": {
    "name": "ipython",
    "version": 3
   },
   "file_extension": ".py",
   "mimetype": "text/x-python",
   "name": "python",
   "nbconvert_exporter": "python",
   "pygments_lexer": "ipython3",
   "version": "3.11.4"
  }
 },
 "nbformat": 4,
 "nbformat_minor": 2
}
